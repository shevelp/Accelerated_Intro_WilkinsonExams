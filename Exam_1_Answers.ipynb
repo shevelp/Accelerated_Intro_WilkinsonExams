{
 "cells": [
  {
   "cell_type": "markdown",
   "metadata": {},
   "source": [
    "## EXAM 1: ANSWERS\n",
    "\n",
    "### Fundamentals of programming and bioinformatics\n",
    "\n",
    "#### Sergio López Padilla"
   ]
  },
  {
   "cell_type": "markdown",
   "metadata": {},
   "source": [
    "#### Problem 2"
   ]
  },
  {
   "cell_type": "code",
   "execution_count": null,
   "metadata": {},
   "outputs": [],
   "source": [
    "ls -lh #listing in human size readable the current directory (Accelerated_Intro_WilkinsonExams)"
   ]
  },
  {
   "cell_type": "code",
   "execution_count": null,
   "metadata": {
    "scrolled": false
   },
   "outputs": [],
   "source": [
    "ls -lh Locus_Germplasm_Phenotype_20130122.txt #listing only information about Locus file in human readable size format"
   ]
  },
  {
   "cell_type": "markdown",
   "metadata": {},
   "source": [
    "Using the ls -l command in the directory displays information about the files it contains. \n",
    "The file \"Locus_Germplasm_Phenotype_20130122.txt\" shows in the first column the permission code (-rw-rw-r--) which means: not a directory, read/write for user, read/write for group, read for all  \n",
    "The second column shows the user who owns the document (osboxes)\n",
    "The third column shows the group that owns the document (osboxes)\n",
    "In addition, the file size is displayed in human readable format, which is 1.2MB\n",
    "\n",
    "Regarding the ownership of the file we can check if it is ours using the commands shown in the next cell.\n"
   ]
  },
  {
   "cell_type": "code",
   "execution_count": null,
   "metadata": {},
   "outputs": [],
   "source": [
    "echo \"who is the user?\"\n",
    "whoami\n",
    "echo \"which are the groups?\"\n",
    "groups"
   ]
  },
  {
   "cell_type": "markdown",
   "metadata": {},
   "source": [
    "#### Problem 3"
   ]
  },
  {
   "cell_type": "code",
   "execution_count": null,
   "metadata": {},
   "outputs": [],
   "source": [
    "head -1 Locus_Germplasm_Phenotype_20130122.txt"
   ]
  },
  {
   "cell_type": "markdown",
   "metadata": {},
   "source": [
    "The command \"head\" allows to see the first rows of the selected document, in this case as it is only interested in knowing the header it is specified that only the first row is wanted as output using -1. This command is very useful in this case because it gives us the names of the columns in the file, so that we can easily understand the data. "
   ]
  },
  {
   "cell_type": "markdown",
   "metadata": {},
   "source": [
    "#### Problem 4"
   ]
  },
  {
   "cell_type": "code",
   "execution_count": null,
   "metadata": {},
   "outputs": [],
   "source": [
    "wc -l Locus_Germplasm_Phenotype_20130122.txt"
   ]
  },
  {
   "cell_type": "markdown",
   "metadata": {},
   "source": [
    "Using the command \"wc\" it is posible to count lines, words and bytes. Adding the argument \"-l\" the output shows only the lines, 7216."
   ]
  },
  {
   "cell_type": "markdown",
   "metadata": {},
   "source": [
    "#### Problem 5"
   ]
  },
  {
   "cell_type": "code",
   "execution_count": null,
   "metadata": {
    "scrolled": false
   },
   "outputs": [],
   "source": [
    "grep -E -ia \"^at[1-5]g[0-9]{5}\" Locus_Germplasm_Phenotype_20130122.txt > Data_Only.csv\n",
    "\n",
    "wc -l Data_Only.csv"
   ]
  },
  {
   "cell_type": "markdown",
   "metadata": {},
   "source": [
    "In this problem I have decided to use 'grep' command followed by '-ia' which means that the search is insensitive to case and '-a' (because I don't know the original source of a file, then I assume it is going to be binary) and '-E' accepts regular expressions. This selection will only take into account the rows that have a correct AGI code.  Which acts as the main identifier of this data. \n",
    "\n",
    "It could be done in another simpler way as shown in the next cell (using tail allows you to remove the header) but it can also lead you to mistakes, as it seems below, because the number of lines changes between using grep or just tail."
   ]
  },
  {
   "cell_type": "code",
   "execution_count": null,
   "metadata": {},
   "outputs": [],
   "source": [
    "tail -7215 Locus_Germplasm_Phenotype_20130122.txt | wc -l"
   ]
  },
  {
   "cell_type": "markdown",
   "metadata": {},
   "source": [
    "#### Problem 6"
   ]
  },
  {
   "cell_type": "code",
   "execution_count": null,
   "metadata": {
    "scrolled": false
   },
   "outputs": [],
   "source": [
    "grep -in -E \"root[s]?\\,?\\.?\\s?\" Data_Only.csv \n",
    "#this command looks for root or roots with comma, dot, or space insensitively. Display data.\n",
    "grep -i -E \"root[s]?\\,?\\.?\\s?\" Data_Only.csv | wc -l\n",
    "#this command looks for root or roots with comma, dot, or space insensitively. Number of records with this conditions."
   ]
  },
  {
   "cell_type": "markdown",
   "metadata": {},
   "source": [
    "In this problem I have used grep to select those phenotypes that have to do with \"root\" so I have also considered the plural and different writing symbols that may follow (comma and dot) as well as a space. \n",
    "\n",
    "Next I have used \"wc -l\" to show the number of lines where root/s appears."
   ]
  },
  {
   "cell_type": "markdown",
   "metadata": {},
   "source": [
    "#### Problem 7"
   ]
  },
  {
   "cell_type": "code",
   "execution_count": null,
   "metadata": {
    "scrolled": true
   },
   "outputs": [],
   "source": [
    "grep -i -E \"root[s]?\\,?\\.?\\s?\" Data_Only.csv| grep -io -E \"^at[1-5]g[0-9]{5}\" > Root-associated-Loci.txt"
   ]
  },
  {
   "cell_type": "markdown",
   "metadata": {},
   "source": [
    "In this problem I have used grep to select those phenotypes that have to do with \"root\" so I have also considered the plural and different writing symbols that may follow (comma and period) as well as a space.\n",
    "\n",
    "Next I have used pipe followed by another grep to select only the codes (AGI) (for which it is essential to use -o) and pass them through a query creating the file \"Root-associated-Loci.txt\". In this Regex Expresion I have use the symbol \"^\" because there are phenotypes that include AGI codes. "
   ]
  },
  {
   "cell_type": "markdown",
   "metadata": {},
   "source": [
    "#### Problem 8"
   ]
  },
  {
   "cell_type": "code",
   "execution_count": null,
   "metadata": {},
   "outputs": [],
   "source": [
    "grep -i -E \"root[s]?\\,?\\.?\\s?\" Data_Only.csv | grep -io -E \"[0-9]+$\" > Root-associated-Publications.txt"
   ]
  },
  {
   "cell_type": "markdown",
   "metadata": {},
   "source": [
    "In this problem I have used grep to select those publications that have to do with \"root\" so I have also considered the plural and different writing symbols that may follow (comma and period) as well as a space.\n",
    "\n",
    "Next I have used pipe followed by another grep to select only the codes (PubMedID) (for which it is essential to use the argument-o) and pass them through a query creating the file \" Root-associated-Publications.txt\". In this regex expression I have used the symbol \"$\" because the PubMedID its located at the end of the line. "
   ]
  },
  {
   "cell_type": "markdown",
   "metadata": {},
   "source": [
    "#### Problem 9"
   ]
  },
  {
   "cell_type": "code",
   "execution_count": null,
   "metadata": {
    "scrolled": true
   },
   "outputs": [],
   "source": [
    "grep -io -E \"^at[1-5]g[0-9]{5}\" Root-associated-Loci.txt | wc -l\n",
    "grep -io -E \"^at[1]g[0-9]{5}\"  Root-associated-Loci.txt | wc -l \n",
    "grep -io -E \"^at[2]g[0-9]{5}\"  Root-associated-Loci.txt | wc -l \n",
    "grep -io -E \"^at[3]g[0-9]{5}\"  Root-associated-Loci.txt | wc -l \n",
    "grep -io -E \"^at[4]g[0-9]{5}\"  Root-associated-Loci.txt | wc -l \n",
    "grep -io -E \"^at[5]g[0-9]{5}\"  Root-associated-Loci.txt | wc -l \n",
    "\n",
    "echo $((218 + 183 +127 +73 +239)) \n"
   ]
  },
  {
   "cell_type": "markdown",
   "metadata": {},
   "source": [
    "To check the hypothesis I have used the previously created file containing the AGI codes of those phenotypes with references to the roots.\n",
    "\n",
    "First I have checked the number of locus for totals. (840) and then I have made 5 \"greps\", one with each chromosome to not only check if there are genes in those chromosomes but also the number of them.  \n",
    "\n",
    "Finally I have added up all the different locus of each chromosome to check that no error has been made."
   ]
  },
  {
   "cell_type": "markdown",
   "metadata": {},
   "source": [
    "#### Problem 10\n",
    "\n",
    "Roots locus isolated from this database are presents in all chromosomes (1-5)\n",
    "\n",
    "- 1) 218 Locus on chromosome 1\n",
    "- 2) 183 Locus on chromosome 2\n",
    "- 3) 127 Locus on chromosome 3\n",
    "- 4) 73 Locus on chromosome 4\n",
    "- 5) 239 Locus on chromosome 5"
   ]
  }
 ],
 "metadata": {
  "kernelspec": {
   "display_name": "Bash",
   "language": "bash",
   "name": "bash"
  },
  "language_info": {
   "codemirror_mode": "shell",
   "file_extension": ".sh",
   "mimetype": "text/x-sh",
   "name": "bash"
  }
 },
 "nbformat": 4,
 "nbformat_minor": 2
}
